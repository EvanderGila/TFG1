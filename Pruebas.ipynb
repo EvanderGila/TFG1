{
 "cells": [
  {
   "cell_type": "code",
   "execution_count": 1,
   "id": "e92fb628-87b1-45c9-872f-0de92d184a61",
   "metadata": {
    "tags": []
   },
   "outputs": [],
   "source": [
    "import os\n",
    "from PIL import Image\n",
    "import torch\n",
    "import torch.optim as optim\n",
    "import torch.nn as nn\n",
    "from torchvision import transforms\n",
    "import matplotlib.pyplot as plt\n",
    "\n",
    "import preprocess as p\n",
    "import display as  disp\n",
    "\n"
   ]
  },
  {
   "cell_type": "code",
   "execution_count": 4,
   "id": "dc054ef2-c043-455a-a6dc-9169c46fac35",
   "metadata": {
    "collapsed": true,
    "jupyter": {
     "outputs_hidden": true,
     "source_hidden": true
    },
    "tags": []
   },
   "outputs": [
    {
     "name": "stdout",
     "output_type": "stream",
     "text": [
      "Defaulting to user installation because normal site-packages is not writeable\n",
      "Requirement already satisfied: matplotlib in /home/helena/.local/lib/python3.10/site-packages (3.10.0)\n",
      "Requirement already satisfied: contourpy>=1.0.1 in /usr/local/lib/python3.10/dist-packages (from matplotlib) (1.3.0)\n",
      "Requirement already satisfied: cycler>=0.10 in /home/helena/.local/lib/python3.10/site-packages (from matplotlib) (0.12.1)\n",
      "Requirement already satisfied: fonttools>=4.22.0 in /home/helena/.local/lib/python3.10/site-packages (from matplotlib) (4.55.5)\n",
      "Requirement already satisfied: kiwisolver>=1.3.1 in /home/helena/.local/lib/python3.10/site-packages (from matplotlib) (1.4.8)\n",
      "Requirement already satisfied: numpy>=1.23 in /usr/local/lib/python3.10/dist-packages (from matplotlib) (1.26.4)\n",
      "Requirement already satisfied: packaging>=20.0 in /usr/local/lib/python3.10/dist-packages (from matplotlib) (24.1)\n",
      "Requirement already satisfied: pillow>=8 in /usr/local/lib/python3.10/dist-packages (from matplotlib) (10.4.0)\n",
      "Requirement already satisfied: pyparsing>=2.3.1 in /home/helena/.local/lib/python3.10/site-packages (from matplotlib) (3.2.1)\n",
      "Requirement already satisfied: python-dateutil>=2.7 in /usr/local/lib/python3.10/dist-packages (from matplotlib) (2.9.0.post0)\n",
      "Requirement already satisfied: six>=1.5 in /usr/local/lib/python3.10/dist-packages (from python-dateutil>=2.7->matplotlib) (1.16.0)\n",
      "\n",
      "\u001b[1m[\u001b[0m\u001b[34;49mnotice\u001b[0m\u001b[1;39;49m]\u001b[0m\u001b[39;49m A new release of pip is available: \u001b[0m\u001b[31;49m24.2\u001b[0m\u001b[39;49m -> \u001b[0m\u001b[32;49m24.3.1\u001b[0m\n",
      "\u001b[1m[\u001b[0m\u001b[34;49mnotice\u001b[0m\u001b[1;39;49m]\u001b[0m\u001b[39;49m To update, run: \u001b[0m\u001b[32;49mpython3 -m pip install --upgrade pip\u001b[0m\n"
     ]
    }
   ],
   "source": [
    "!pip install matplotlib\n",
    "#python3 -m pip install --upgrade pip  en la terminal"
   ]
  },
  {
   "cell_type": "code",
   "execution_count": 2,
   "id": "36944ce6-1ada-4de4-981c-c7bdc3fc310c",
   "metadata": {
    "collapsed": true,
    "jupyter": {
     "outputs_hidden": true,
     "source_hidden": true
    },
    "tags": []
   },
   "outputs": [
    {
     "name": "stdout",
     "output_type": "stream",
     "text": [
      "Defaulting to user installation because normal site-packages is not writeable\n",
      "Collecting seaborn\n",
      "  Downloading seaborn-0.13.2-py3-none-any.whl.metadata (5.4 kB)\n",
      "Requirement already satisfied: numpy!=1.24.0,>=1.20 in /usr/local/lib/python3.10/dist-packages (from seaborn) (1.26.4)\n",
      "Requirement already satisfied: pandas>=1.2 in /usr/local/lib/python3.10/dist-packages (from seaborn) (2.2.3)\n",
      "Requirement already satisfied: matplotlib!=3.6.1,>=3.4 in /home/helena/.local/lib/python3.10/site-packages (from seaborn) (3.10.0)\n",
      "Requirement already satisfied: contourpy>=1.0.1 in /usr/local/lib/python3.10/dist-packages (from matplotlib!=3.6.1,>=3.4->seaborn) (1.3.0)\n",
      "Requirement already satisfied: cycler>=0.10 in /home/helena/.local/lib/python3.10/site-packages (from matplotlib!=3.6.1,>=3.4->seaborn) (0.12.1)\n",
      "Requirement already satisfied: fonttools>=4.22.0 in /home/helena/.local/lib/python3.10/site-packages (from matplotlib!=3.6.1,>=3.4->seaborn) (4.55.5)\n",
      "Requirement already satisfied: kiwisolver>=1.3.1 in /home/helena/.local/lib/python3.10/site-packages (from matplotlib!=3.6.1,>=3.4->seaborn) (1.4.8)\n",
      "Requirement already satisfied: packaging>=20.0 in /usr/local/lib/python3.10/dist-packages (from matplotlib!=3.6.1,>=3.4->seaborn) (24.1)\n",
      "Requirement already satisfied: pillow>=8 in /usr/local/lib/python3.10/dist-packages (from matplotlib!=3.6.1,>=3.4->seaborn) (10.4.0)\n",
      "Requirement already satisfied: pyparsing>=2.3.1 in /home/helena/.local/lib/python3.10/site-packages (from matplotlib!=3.6.1,>=3.4->seaborn) (3.2.1)\n",
      "Requirement already satisfied: python-dateutil>=2.7 in /usr/local/lib/python3.10/dist-packages (from matplotlib!=3.6.1,>=3.4->seaborn) (2.9.0.post0)\n",
      "Requirement already satisfied: pytz>=2020.1 in /usr/local/lib/python3.10/dist-packages (from pandas>=1.2->seaborn) (2024.2)\n",
      "Requirement already satisfied: tzdata>=2022.7 in /usr/local/lib/python3.10/dist-packages (from pandas>=1.2->seaborn) (2024.2)\n",
      "Requirement already satisfied: six>=1.5 in /usr/local/lib/python3.10/dist-packages (from python-dateutil>=2.7->matplotlib!=3.6.1,>=3.4->seaborn) (1.16.0)\n",
      "Downloading seaborn-0.13.2-py3-none-any.whl (294 kB)\n",
      "Installing collected packages: seaborn\n",
      "Successfully installed seaborn-0.13.2\n"
     ]
    }
   ],
   "source": [
    "!pip install seaborn"
   ]
  },
  {
   "cell_type": "code",
   "execution_count": null,
   "id": "35d05334-035c-488f-8d5d-24e250f8a425",
   "metadata": {
    "jupyter": {
     "source_hidden": true
    },
    "tags": []
   },
   "outputs": [],
   "source": [
    "#Prueba de visualización de gráficas\n",
    "epochs = [1, 2, 3]\n",
    "train_loss_values = [1, 5, 3]\n",
    "train_acc_values= [1.5, 2.5, 3.5]\n",
    "val_loss_values = [1.5, 2.5, 3.5]\n",
    "val_acc_values = [1, 2, 3]\n",
    "# Crear la figura y los ejes\n",
    "plt.figure(figsize=(12, 6))\n",
    "# Crear la figura y los ejes\n",
    "plt.figure(figsize=(12, 6))\n",
    "\n",
    "    # Gráfica del Loss\n",
    "plt.subplot(1, 2, 1) \n",
    "plt.plot(epochs, train_loss_values, color='red', label='Train Loss')\n",
    "plt.plot(epochs, val_loss_values, color='orange', label='Validation Loss')\n",
    "    # Encontrar el mínimo para train y validation\n",
    "train_min_idx = train_loss_values.index(min(train_loss_values))\n",
    "val_min_idx = val_loss_values.index(min(val_loss_values))\n",
    "    #Marcar los mínimos\n",
    "plt.plot(epochs[train_min_idx], train_loss_values[train_min_idx], 'ro', label=f'Train Min: {train_loss_values[train_min_idx]:.2f}')\n",
    "plt.plot(epochs[val_min_idx], val_loss_values[val_min_idx], 'o', color='orange', label=f'Validation Min: {val_loss_values[val_min_idx]:.2f}')\n",
    "plt.title('Loss Graphic')\n",
    "plt.xlabel('Epochs')\n",
    "plt.ylabel('Loss')\n",
    "plt.grid(True)\n",
    "plt.legend()\n",
    "\n",
    "    # Gráfica del Accuracy\n",
    "plt.subplot(1, 2, 2)  \n",
    "plt.plot(epochs, train_acc_values, color='blue', label='Train Accuracy')\n",
    "plt.plot(epochs, val_acc_values, color='green', label='Validation Accuracy')\n",
    "    # Encontrar el máximo para train y validation\n",
    "train_max_idx = train_acc_values.index(max(train_acc_values))\n",
    "val_max_idx = val_acc_values.index(max(val_acc_values))\n",
    "    #Marcar los mínimos\n",
    "plt.plot(epochs[train_max_idx], train_acc_values[train_max_idx], 'bo', label=f'Train Max: {train_acc_values[train_max_idx]:.2f}')\n",
    "plt.plot(epochs[val_max_idx], val_acc_values[val_max_idx], 'go', label=f'Validation Max: {val_acc_values[val_max_idx]:.2f}')\n",
    "plt.title('Accuracy Graphic')\n",
    "plt.xlabel('Epochs')\n",
    "plt.ylabel('Accuracy')\n",
    "plt.grid(True)\n",
    "plt.legend()"
   ]
  },
  {
   "cell_type": "code",
   "execution_count": 2,
   "id": "496c4465-9641-460c-871b-dbedd93fed33",
   "metadata": {
    "tags": []
   },
   "outputs": [
    {
     "name": "stdout",
     "output_type": "stream",
     "text": [
      "3C_0.001_NO\n"
     ]
    }
   ],
   "source": [
    "arch = \"3C\"\n",
    "lr = 0.001\n",
    "da = \"NO\"\n",
    "\n",
    "name = f\"{arch}_{lr}_{da}\"\n",
    "print(f\"{name}\")"
   ]
  },
  {
   "cell_type": "code",
   "execution_count": 3,
   "id": "fe151f0b-a034-484b-979f-14e247773e29",
   "metadata": {
    "tags": []
   },
   "outputs": [
    {
     "name": "stdout",
     "output_type": "stream",
     "text": [
      "1_3C_2_NO\n"
     ]
    }
   ],
   "source": [
    "name = disp.crear_nombre_modelo(arch, lr, da)\n",
    "print(f\"{name}\")"
   ]
  },
  {
   "cell_type": "code",
   "execution_count": 6,
   "id": "3d4801f2-75f4-4135-b6a2-42c5ce989701",
   "metadata": {},
   "outputs": [
    {
     "name": "stdout",
     "output_type": "stream",
     "text": [
      "False\n"
     ]
    }
   ],
   "source": [
    "save = False\n",
    "print(f\"{save}\")"
   ]
  },
  {
   "cell_type": "code",
   "execution_count": 7,
   "id": "6f72a303-4f97-4257-84d0-4398da494f55",
   "metadata": {
    "tags": []
   },
   "outputs": [
    {
     "name": "stdout",
     "output_type": "stream",
     "text": [
      "[VALIDACIÓN]\n",
      "Epoch [{epoch+1}/{num_epochs}] - Loss: {val_epoch_loss:.4f}, Accuracy: {val_epoch_accuracy:.2f}%\n"
     ]
    }
   ],
   "source": [
    "print(\"[VALIDACIÓN]\")\n",
    "if save == True:\n",
    "    print(\"Epoch [{epoch+1}/{num_epochs}] - Loss: {val_epoch_loss:.4f}, Accuracy: {val_epoch_accuracy:.2f}% - Best\")\n",
    "else:\n",
    "    print(\"Epoch [{epoch+1}/{num_epochs}] - Loss: {val_epoch_loss:.4f}, Accuracy: {val_epoch_accuracy:.2f}%\")\n",
    "        \n",
    "save = False "
   ]
  },
  {
   "cell_type": "code",
   "execution_count": null,
   "id": "5510253b-0e53-4882-8f60-79a1129f37ae",
   "metadata": {},
   "outputs": [],
   "source": []
  }
 ],
 "metadata": {
  "kernelspec": {
   "display_name": "Python 3 (ipykernel)",
   "language": "python",
   "name": "python3"
  },
  "language_info": {
   "codemirror_mode": {
    "name": "ipython",
    "version": 3
   },
   "file_extension": ".py",
   "mimetype": "text/x-python",
   "name": "python",
   "nbconvert_exporter": "python",
   "pygments_lexer": "ipython3",
   "version": "3.10.12"
  }
 },
 "nbformat": 4,
 "nbformat_minor": 5
}

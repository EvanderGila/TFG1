{
 "cells": [
  {
   "cell_type": "code",
   "execution_count": 1,
   "id": "d45a99d9-8351-4e73-8a01-9c578dbbcaec",
   "metadata": {
    "tags": []
   },
   "outputs": [],
   "source": [
    "import torch\n",
    "import testt as t\n",
    "import preprocess as p"
   ]
  },
  {
   "cell_type": "code",
   "execution_count": 2,
   "id": "898ba8ca-fed6-4ba1-a8ea-cca950372ba3",
   "metadata": {
    "tags": []
   },
   "outputs": [],
   "source": [
    "data_dir = './dataset/test'\n",
    "batch_size = 32\n",
    "img_size = 64\n",
    "\n",
    "#Architecture\n",
    "out_1 = 64 \n",
    "out_2 = 128 \n",
    "out_3 = 256 \n",
    "out_4 = 512"
   ]
  },
  {
   "cell_type": "code",
   "execution_count": 3,
   "id": "76332cec-7eb7-4262-af0d-424ca2b3e0a4",
   "metadata": {
    "tags": []
   },
   "outputs": [
    {
     "name": "stdout",
     "output_type": "stream",
     "text": [
      "Lista models:\n",
      "Modelo: 3C, Ruta: Resultados/Models/Model1_3C_1_DA.pth\n",
      "Modelo: 3C, Ruta: Resultados/Models/Model1_3C_1_NO.pth\n",
      "Modelo: 3C, Ruta: Resultados/Models/Model1_3C_2_DA.pth\n",
      "Modelo: 3C, Ruta: Resultados/Models/Model1_3C_2_NO.pth\n",
      "Modelo: 3C, Ruta: Resultados/Models/Model1_3C_3_DA.pth\n",
      "Modelo: 3C, Ruta: Resultados/Models/Model1_3C_3_NO.pth\n",
      "Modelo: 3C, Ruta: Resultados/Models/Model2_3C_3_NO.pth\n",
      "Modelo: 4C, Ruta: Resultados/Models/Model1_4C_1_DA.pth\n",
      "Modelo: 4C, Ruta: Resultados/Models/Model1_4C_1_NO.pth\n",
      "Modelo: 4C, Ruta: Resultados/Models/Model1_4C_2_DA.pth\n",
      "Modelo: 4C, Ruta: Resultados/Models/Model1_4C_2_NO.pth\n",
      "Modelo: 4C, Ruta: Resultados/Models/Model1_4C_3_DA.pth\n",
      "Modelo: 4C, Ruta: Resultados/Models/Model1_4C_3_NO.pth\n",
      "Modelo: 4C, Ruta: Resultados/Models/Model2_4C_3_DA.pth\n",
      "Modelo: B3C, Ruta: Resultados/Models/Model1_B3C_1_DA.pth\n",
      "Modelo: B3C, Ruta: Resultados/Models/Model1_B3C_1_NO.pth\n",
      "Modelo: B3C, Ruta: Resultados/Models/Model1_B3C_2_DA.pth\n",
      "Modelo: B3C, Ruta: Resultados/Models/Model1_B3C_2_NO.pth\n",
      "Modelo: B3C, Ruta: Resultados/Models/Model1_B3C_3_DA.pth\n",
      "Modelo: B3C, Ruta: Resultados/Models/Model1_B3C_3_NO.pth\n"
     ]
    }
   ],
   "source": [
    "#Lista de modelos y sus clases\n",
    "models = [(\"Resultados/Models/Model1_3C_1_DA.pth\", \"3C\"), (\"Resultados/Models/Model1_3C_1_NO.pth\", \"3C\"), (\"Resultados/Models/Model1_3C_2_DA.pth\", \"3C\"),\n",
    "          (\"Resultados/Models/Model1_3C_2_NO.pth\", \"3C\"), (\"Resultados/Models/Model1_3C_3_DA.pth\", \"3C\"), (\"Resultados/Models/Model1_3C_3_NO.pth\", \"3C\"),\n",
    "          (\"Resultados/Models/Model2_3C_3_NO.pth\", \"3C\"), (\"Resultados/Models/Model1_4C_1_DA.pth\", \"4C\"), (\"Resultados/Models/Model1_4C_1_NO.pth\", \"4C\"),\n",
    "          (\"Resultados/Models/Model1_4C_2_DA.pth\", \"4C\"), (\"Resultados/Models/Model1_4C_2_NO.pth\", \"4C\"), (\"Resultados/Models/Model1_4C_3_DA.pth\", \"4C\"),\n",
    "          (\"Resultados/Models/Model1_4C_3_NO.pth\", \"4C\"), (\"Resultados/Models/Model2_4C_3_DA.pth\", \"4C\"), (\"Resultados/Models/Model1_B3C_1_DA.pth\", \"B3C\"),\n",
    "          (\"Resultados/Models/Model1_B3C_1_NO.pth\", \"B3C\"), (\"Resultados/Models/Model1_B3C_2_DA.pth\", \"B3C\"), (\"Resultados/Models/Model1_B3C_2_NO.pth\", \"B3C\"),\n",
    "          (\"Resultados/Models/Model1_B3C_3_DA.pth\", \"B3C\"), (\"Resultados/Models/Model1_B3C_3_NO.pth\", \"B3C\")] #7, 7, 6 (7 modelos 3C, 7 modelos 4C y 6 modelos B3C)\n",
    "\n",
    "#Mostrar la lista\n",
    "print(\"Lista models:\")\n",
    "for model_path, model_class in models:\n",
    "    print(f\"Modelo: {model_class}, Ruta: {model_path}\")"
   ]
  },
  {
   "cell_type": "code",
   "execution_count": 4,
   "id": "a0e3c39d-8624-4e01-a552-20e0ecb52c28",
   "metadata": {
    "tags": []
   },
   "outputs": [],
   "source": [
    "#Crear el test loader\n",
    "\n",
    "test_loader = p.get_test_loader(data_dir, batch_size=batch_size, img_size=img_size)"
   ]
  },
  {
   "cell_type": "code",
   "execution_count": 6,
   "id": "c332ec16-bd4f-460a-952b-bf7be5751325",
   "metadata": {
    "tags": []
   },
   "outputs": [
    {
     "name": "stdout",
     "output_type": "stream",
     "text": [
      "Tamaño Positivo: 10000, Media Positiva: 0.8645746212189057, Std Positiva: 0.24233423540511045\n",
      "Tamaño Negativo: 10000, Media Negativa: 0.024712778186731697, Std Negativa: 0.09068619780895873\n",
      "Min prob: [2.171407e-15] Max prob: [1.]\n",
      "Unique labels: {0, 1}\n",
      "Grafica ROC guardada en ./Test/ROC_Model1_3C_1_DA.pth.svg\n",
      "Matriz guardada en ./Test/MatrixTest_Model1_3C_1_DA.pth.svg\n",
      "Resultados guardados en Test/Resultados_test_Acumulados.csv\n",
      "Resultados para Resultados/Models/Model1_3C_1_DA.pth: {'ACC': 0.941, 'AUC': 0.9935013, 'TPR': 0.892, 'FPR': 0.01, 'AUC_umbral': 0.9712405000000001}\n",
      "\n",
      "Tamaño Positivo: 10000, Media Positiva: 0.9613454256608606, Std Positiva: 0.16447631314211347\n",
      "Tamaño Negativo: 10000, Media Negativa: 0.043472253439742925, Std Negativa: 0.17477305064554502\n",
      "Min prob: [0.] Max prob: [1.]\n",
      "Unique labels: {0, 1}\n",
      "Grafica ROC guardada en ./Test/ROC_Model1_3C_1_NO.pth.svg\n",
      "Matriz guardada en ./Test/MatrixTest_Model1_3C_1_NO.pth.svg\n",
      "Resultados guardados en Test/Resultados_test_Acumulados.csv\n",
      "Resultados para Resultados/Models/Model1_3C_1_NO.pth: {'ACC': 0.963, 'AUC': 0.993106205, 'TPR': 0.9653, 'FPR': 0.0393, 'AUC_umbral': 0.97944961}\n",
      "\n",
      "Tamaño Positivo: 10000, Media Positiva: 0.9485159962071688, Std Positiva: 0.14840230113852046\n",
      "Tamaño Negativo: 10000, Media Negativa: 0.09033825533842021, Std Negativa: 0.19644506602614986\n",
      "Min prob: [3.589849e-12] Max prob: [1.]\n",
      "Unique labels: {0, 1}\n",
      "Grafica ROC guardada en ./Test/ROC_Model1_3C_2_DA.pth.svg\n",
      "Matriz guardada en ./Test/MatrixTest_Model1_3C_2_DA.pth.svg\n",
      "Resultados guardados en Test/Resultados_test_Acumulados.csv\n",
      "Resultados para Resultados/Models/Model1_3C_2_DA.pth: {'ACC': 0.95305, 'AUC': 0.991401705, 'TPR': 0.968, 'FPR': 0.0619, 'AUC_umbral': 0.9738127249999998}\n",
      "\n",
      "Tamaño Positivo: 10000, Media Positiva: 0.951531540802433, Std Positiva: 0.1773681953098184\n",
      "Tamaño Negativo: 10000, Media Negativa: 0.0361500064065822, Std Negativa: 0.14997250760847214\n",
      "Min prob: [2.0970219e-27] Max prob: [1.]\n",
      "Unique labels: {0, 1}\n",
      "Grafica ROC guardada en ./Test/ROC_Model1_3C_2_NO.pth.svg\n",
      "Matriz guardada en ./Test/MatrixTest_Model1_3C_2_NO.pth.svg\n",
      "Resultados guardados en Test/Resultados_test_Acumulados.csv\n",
      "Resultados para Resultados/Models/Model1_3C_2_NO.pth: {'ACC': 0.9638, 'AUC': 0.9939381750000001, 'TPR': 0.9581, 'FPR': 0.0305, 'AUC_umbral': 0.976719625}\n",
      "\n",
      "Tamaño Positivo: 10000, Media Positiva: 0.9774224308595468, Std Positiva: 0.09690178650461288\n",
      "Tamaño Negativo: 10000, Media Negativa: 0.12426409080225788, Std Negativa: 0.24094744933472623\n",
      "Min prob: [4.674639e-12] Max prob: [1.]\n",
      "Unique labels: {0, 1}\n",
      "Grafica ROC guardada en ./Test/ROC_Model1_3C_3_DA.pth.svg\n",
      "Matriz guardada en ./Test/MatrixTest_Model1_3C_3_DA.pth.svg\n",
      "Resultados guardados en Test/Resultados_test_Acumulados.csv\n",
      "Resultados para Resultados/Models/Model1_3C_3_DA.pth: {'ACC': 0.9454, 'AUC': 0.993396435, 'TPR': 0.9877, 'FPR': 0.0969, 'AUC_umbral': 0.9699582250000001}\n",
      "\n",
      "Tamaño Positivo: 10000, Media Positiva: 0.9621157938126386, Std Positiva: 0.1537755758330964\n",
      "Tamaño Negativo: 10000, Media Negativa: 0.04612336762387501, Std Negativa: 0.16663374059969438\n",
      "Min prob: [6.788602e-30] Max prob: [1.]\n",
      "Unique labels: {0, 1}\n",
      "Grafica ROC guardada en ./Test/ROC_Model1_3C_3_NO.pth.svg\n",
      "Matriz guardada en ./Test/MatrixTest_Model1_3C_3_NO.pth.svg\n",
      "Resultados guardados en Test/Resultados_test_Acumulados.csv\n",
      "Resultados para Resultados/Models/Model1_3C_3_NO.pth: {'ACC': 0.9653, 'AUC': 0.9937806750000002, 'TPR': 0.9679, 'FPR': 0.0373, 'AUC_umbral': 0.9813295400000001}\n",
      "\n",
      "Tamaño Positivo: 10000, Media Positiva: 0.9747347586904576, Std Positiva: 0.13554500250283433\n",
      "Tamaño Negativo: 10000, Media Negativa: 0.05261082799522329, Std Negativa: 0.1925641178751783\n",
      "Min prob: [0.] Max prob: [1.]\n",
      "Unique labels: {0, 1}\n",
      "Grafica ROC guardada en ./Test/ROC_Model2_3C_3_NO.pth.svg\n",
      "Matriz guardada en ./Test/MatrixTest_Model2_3C_3_NO.pth.svg\n",
      "Resultados guardados en Test/Resultados_test_Acumulados.csv\n",
      "Resultados para Resultados/Models/Model2_3C_3_NO.pth: {'ACC': 0.9644, 'AUC': 0.9946571599999998, 'TPR': 0.9771, 'FPR': 0.0483, 'AUC_umbral': 0.983817825}\n",
      "\n",
      "Tamaño Positivo: 10000, Media Positiva: 0.9667461781452488, Std Positiva: 0.13508196140049838\n",
      "Tamaño Negativo: 10000, Media Negativa: 0.06065251751748556, Std Negativa: 0.18653605424219316\n",
      "Min prob: [5.615719e-17] Max prob: [1.]\n",
      "Unique labels: {0, 1}\n",
      "Grafica ROC guardada en ./Test/ROC_Model1_4C_1_DA.pth.svg\n",
      "Matriz guardada en ./Test/MatrixTest_Model1_4C_1_DA.pth.svg\n",
      "Resultados guardados en Test/Resultados_test_Acumulados.csv\n",
      "Resultados para Resultados/Models/Model1_4C_1_DA.pth: {'ACC': 0.9619, 'AUC': 0.994194295, 'TPR': 0.9741, 'FPR': 0.0503, 'AUC_umbral': 0.9788533500000001}\n",
      "\n",
      "Tamaño Positivo: 10000, Media Positiva: 0.9775504846399412, Std Positiva: 0.12971532366986932\n",
      "Tamaño Negativo: 10000, Media Negativa: 0.07189101066580281, Std Negativa: 0.2278327828193193\n",
      "Min prob: [0.] Max prob: [1.]\n",
      "Unique labels: {0, 1}\n",
      "Grafica ROC guardada en ./Test/ROC_Model1_4C_1_NO.pth.svg\n",
      "Matriz guardada en ./Test/MatrixTest_Model1_4C_1_NO.pth.svg\n",
      "Resultados guardados en Test/Resultados_test_Acumulados.csv\n",
      "Resultados para Resultados/Models/Model1_4C_1_NO.pth: {'ACC': 0.95555, 'AUC': 0.9928477499999999, 'TPR': 0.9796, 'FPR': 0.0685, 'AUC_umbral': 0.9806170750000001}\n",
      "\n",
      "Tamaño Positivo: 10000, Media Positiva: 0.9486914945731987, Std Positiva: 0.15355529971493076\n",
      "Tamaño Negativo: 10000, Media Negativa: 0.04262223365857913, Std Negativa: 0.13865358511416787\n",
      "Min prob: [5.2109697e-12] Max prob: [1.]\n",
      "Unique labels: {0, 1}\n",
      "Grafica ROC guardada en ./Test/ROC_Model1_4C_2_DA.pth.svg\n",
      "Matriz guardada en ./Test/MatrixTest_Model1_4C_2_DA.pth.svg\n",
      "Resultados guardados en Test/Resultados_test_Acumulados.csv\n",
      "Resultados para Resultados/Models/Model1_4C_2_DA.pth: {'ACC': 0.9687, 'AUC': 0.99561828, 'TPR': 0.9654, 'FPR': 0.028, 'AUC_umbral': 0.9830899250000001}\n",
      "\n",
      "Tamaño Positivo: 10000, Media Positiva: 0.9657037673713498, Std Positiva: 0.1556685342222264\n",
      "Tamaño Negativo: 10000, Media Negativa: 0.04844022369136602, Std Negativa: 0.18502986960145648\n",
      "Min prob: [1.2154608e-27] Max prob: [1.]\n",
      "Unique labels: {0, 1}\n",
      "Grafica ROC guardada en ./Test/ROC_Model1_4C_2_NO.pth.svg\n",
      "Matriz guardada en ./Test/MatrixTest_Model1_4C_2_NO.pth.svg\n",
      "Resultados guardados en Test/Resultados_test_Acumulados.csv\n",
      "Resultados para Resultados/Models/Model1_4C_2_NO.pth: {'ACC': 0.9621, 'AUC': 0.9938665049999998, 'TPR': 0.969, 'FPR': 0.0448, 'AUC_umbral': 0.9785013999999999}\n",
      "\n",
      "Tamaño Positivo: 10000, Media Positiva: 0.9450409248764917, Std Positiva: 0.16357660168673363\n",
      "Tamaño Negativo: 10000, Media Negativa: 0.04748724382546869, Std Negativa: 0.1519241246724573\n",
      "Min prob: [7.369981e-12] Max prob: [1.]\n",
      "Unique labels: {0, 1}\n",
      "Grafica ROC guardada en ./Test/ROC_Model1_4C_3_DA.pth.svg\n",
      "Matriz guardada en ./Test/MatrixTest_Model1_4C_3_DA.pth.svg\n",
      "Resultados guardados en Test/Resultados_test_Acumulados.csv\n",
      "Resultados para Resultados/Models/Model1_4C_3_DA.pth: {'ACC': 0.9635, 'AUC': 0.9940173199999999, 'TPR': 0.9593, 'FPR': 0.0323, 'AUC_umbral': 0.9795841349999999}\n",
      "\n",
      "Tamaño Positivo: 10000, Media Positiva: 0.9717781299683828, Std Positiva: 0.14333704403863823\n",
      "Tamaño Negativo: 10000, Media Negativa: 0.044798131840755887, Std Negativa: 0.17932263894996026\n",
      "Min prob: [1.3882202e-29] Max prob: [1.]\n",
      "Unique labels: {0, 1}\n",
      "Grafica ROC guardada en ./Test/ROC_Model1_4C_3_NO.pth.svg\n",
      "Matriz guardada en ./Test/MatrixTest_Model1_4C_3_NO.pth.svg\n",
      "Resultados guardados en Test/Resultados_test_Acumulados.csv\n",
      "Resultados para Resultados/Models/Model1_4C_3_NO.pth: {'ACC': 0.96615, 'AUC': 0.9946916499999999, 'TPR': 0.9745, 'FPR': 0.0422, 'AUC_umbral': 0.98261636}\n",
      "\n",
      "Tamaño Positivo: 10000, Media Positiva: 0.9638073995580202, Std Positiva: 0.14698914419423062\n",
      "Tamaño Negativo: 10000, Media Negativa: 0.041827309975707, Std Negativa: 0.15899426193753027\n",
      "Min prob: [1.4418336e-18] Max prob: [1.]\n",
      "Unique labels: {0, 1}\n",
      "Grafica ROC guardada en ./Test/ROC_Model2_4C_3_DA.pth.svg\n",
      "Matriz guardada en ./Test/MatrixTest_Model2_4C_3_DA.pth.svg\n",
      "Resultados guardados en Test/Resultados_test_Acumulados.csv\n",
      "Resultados para Resultados/Models/Model2_4C_3_DA.pth: {'ACC': 0.968, 'AUC': 0.9955345450000002, 'TPR': 0.9705, 'FPR': 0.0345, 'AUC_umbral': 0.98015399}\n",
      "\n",
      "Tamaño Positivo: 10000, Media Positiva: 0.9714033912360668, Std Positiva: 0.003929247120759663\n",
      "Tamaño Negativo: 10000, Media Negativa: 0.9706140097975731, Std Negativa: 0.004550195867931805\n",
      "Min prob: [0.9469142] Max prob: [0.9820663]\n",
      "Unique labels: {0, 1}\n",
      "Grafica ROC guardada en ./Test/ROC_Model1_B3C_1_DA.pth.svg\n",
      "Matriz guardada en ./Test/MatrixTest_Model1_B3C_1_DA.pth.svg\n",
      "Resultados guardados en Test/Resultados_test_Acumulados.csv\n",
      "Resultados para Resultados/Models/Model1_B3C_1_DA.pth: {'ACC': 0.5, 'AUC': 0.5453727500000001, 'TPR': 1.0, 'FPR': 1.0, 'AUC_umbral': 0.5}\n",
      "\n",
      "Tamaño Positivo: 10000, Media Positiva: 0.2702729626610875, Std Positiva: 0.03032797721952916\n",
      "Tamaño Negativo: 10000, Media Negativa: 0.25793934578895567, Std Negativa: 0.024594929238078905\n",
      "Min prob: [0.1787415] Max prob: [0.44848266]\n",
      "Unique labels: {0, 1}\n",
      "Grafica ROC guardada en ./Test/ROC_Model1_B3C_1_NO.pth.svg\n",
      "Matriz guardada en ./Test/MatrixTest_Model1_B3C_1_NO.pth.svg\n",
      "Resultados guardados en Test/Resultados_test_Acumulados.csv\n",
      "Resultados para Resultados/Models/Model1_B3C_1_NO.pth: {'ACC': 0.5, 'AUC': 0.617280645, 'TPR': 0.0, 'FPR': 0.0, 'AUC_umbral': 0.5734}\n",
      "\n",
      "Tamaño Positivo: 10000, Media Positiva: 0.44221235104054213, Std Positiva: 0.03647486068963241\n",
      "Tamaño Negativo: 10000, Media Negativa: 0.41846623478233813, Std Negativa: 0.039826855129044346\n",
      "Min prob: [0.1749355] Max prob: [0.55728096]\n",
      "Unique labels: {0, 1}\n",
      "Grafica ROC guardada en ./Test/ROC_Model1_B3C_2_DA.pth.svg\n",
      "Matriz guardada en ./Test/MatrixTest_Model1_B3C_2_DA.pth.svg\n",
      "Resultados guardados en Test/Resultados_test_Acumulados.csv\n",
      "Resultados para Resultados/Models/Model1_B3C_2_DA.pth: {'ACC': 0.51105, 'AUC': 0.6830285549999999, 'TPR': 0.0262, 'FPR': 0.0041, 'AUC_umbral': 0.51152806}\n",
      "\n",
      "Tamaño Positivo: 10000, Media Positiva: 0.037057397859101796, Std Positiva: 0.08179030182106724\n",
      "Tamaño Negativo: 10000, Media Negativa: 0.004041076257988608, Std Negativa: 0.025107532331811545\n",
      "Min prob: [1.8319692e-32] Max prob: [0.86852473]\n",
      "Unique labels: {0, 1}\n",
      "Grafica ROC guardada en ./Test/ROC_Model1_B3C_2_NO.pth.svg\n",
      "Matriz guardada en ./Test/MatrixTest_Model1_B3C_2_NO.pth.svg\n",
      "Resultados guardados en Test/Resultados_test_Acumulados.csv\n",
      "Resultados para Resultados/Models/Model1_B3C_2_NO.pth: {'ACC': 0.5009, 'AUC': 0.85296272, 'TPR': 0.0018, 'FPR': 0.0, 'AUC_umbral': 0.51925306}\n",
      "\n",
      "Tamaño Positivo: 10000, Media Positiva: 0.6671713952295483, Std Positiva: 0.17682706922541813\n",
      "Tamaño Negativo: 10000, Media Negativa: 0.6597136361852288, Std Negativa: 0.17532211413980364\n",
      "Min prob: [0.08013294] Max prob: [0.9995289]\n",
      "Unique labels: {0, 1}\n",
      "Grafica ROC guardada en ./Test/ROC_Model1_B3C_3_DA.pth.svg\n",
      "Matriz guardada en ./Test/MatrixTest_Model1_B3C_3_DA.pth.svg\n",
      "Resultados guardados en Test/Resultados_test_Acumulados.csv\n",
      "Resultados para Resultados/Models/Model1_B3C_3_DA.pth: {'ACC': 0.50725, 'AUC': 0.51051365, 'TPR': 0.8237, 'FPR': 0.8092, 'AUC_umbral': 0.51054366}\n",
      "\n",
      "Tamaño Positivo: 10000, Media Positiva: 0.9839911101665347, Std Positiva: 0.021372346145892507\n",
      "Tamaño Negativo: 10000, Media Negativa: 0.9184341435816846, Std Negativa: 0.12229510109668185\n",
      "Min prob: [2.7770418e-05] Max prob: [0.99983716]\n",
      "Unique labels: {0, 1}\n",
      "Grafica ROC guardada en ./Test/ROC_Model1_B3C_3_NO.pth.svg\n",
      "Matriz guardada en ./Test/MatrixTest_Model1_B3C_3_NO.pth.svg\n",
      "Resultados guardados en Test/Resultados_test_Acumulados.csv\n",
      "Resultados para Resultados/Models/Model1_B3C_3_NO.pth: {'ACC': 0.5104, 'AUC': 0.8557794799999999, 'TPR': 0.9996, 'FPR': 0.9788, 'AUC_umbral': 0.5358931399999999}\n",
      "\n"
     ]
    }
   ],
   "source": [
    "#EVALUAR LOS MODELOS\n",
    "\n",
    "#Elegimos dispositivo (Como es test se puede hacer en cpu)\n",
    "device = torch.device(\"cuda:0\" if torch.cuda.is_available() else \"cpu\")\n",
    "\n",
    "#Para cada modelo de la lista evaluamos el modelo y sacamos las métricas\n",
    "for model_path, model_class in models:\n",
    "    #Creamos el modelo con la arquitectura correspondiente dependiendo del modelo a testear \n",
    "    model = t.load_model(model_path, model_class, out_1, out_2, out_3, out_4, img_size)\n",
    "    #Obtenemos las métricas y la matriz de confusión y las guardamos\n",
    "    metrics = t.evaluate_model_roc(model, test_loader, device, model_path)\n",
    "    print(f\"Resultados para {model_path}: {metrics}\")\n",
    "    print(\"\")"
   ]
  },
  {
   "cell_type": "code",
   "execution_count": 3,
   "id": "9297ec31-c9a5-46cf-a49d-19f6955e5f09",
   "metadata": {
    "tags": []
   },
   "outputs": [
    {
     "name": "stdout",
     "output_type": "stream",
     "text": [
      "Min prob: [0.9469142] Max prob: [0.9820663]\n",
      "Unique labels: {0, 1}\n",
      "Resultados guardados en Test/Resultados_test_B3C.csv\n",
      "Resultados para Resultados/Models/Model1_B3C_1_DA.pth: {'ACC': 0.5, 'AUC': 0.5453727500000001, 'TPR': 1.0, 'FPR': 1.0}\n",
      "Min prob: [0.1787415] Max prob: [0.44848266]\n",
      "Unique labels: {0, 1}\n",
      "Resultados guardados en Test/Resultados_test_B3C.csv\n",
      "Resultados para Resultados/Models/Model1_B3C_1_NO.pth: {'ACC': 0.5, 'AUC': 0.617280645, 'TPR': 0.0, 'FPR': 0.0}\n",
      "Min prob: [0.1749355] Max prob: [0.55728096]\n",
      "Unique labels: {0, 1}\n",
      "Resultados guardados en Test/Resultados_test_B3C.csv\n",
      "Resultados para Resultados/Models/Model1_B3C_2_DA.pth: {'ACC': 0.51105, 'AUC': 0.6830285549999999, 'TPR': 0.0262, 'FPR': 0.0041}\n",
      "Min prob: [1.8319692e-32] Max prob: [0.86852473]\n",
      "Unique labels: {0, 1}\n",
      "Resultados guardados en Test/Resultados_test_B3C.csv\n",
      "Resultados para Resultados/Models/Model1_B3C_2_NO.pth: {'ACC': 0.5009, 'AUC': 0.85296272, 'TPR': 0.0018, 'FPR': 0.0}\n",
      "Min prob: [0.08013294] Max prob: [0.9995289]\n",
      "Unique labels: {0, 1}\n",
      "Resultados guardados en Test/Resultados_test_B3C.csv\n",
      "Resultados para Resultados/Models/Model1_B3C_3_DA.pth: {'ACC': 0.50725, 'AUC': 0.51051365, 'TPR': 0.8237, 'FPR': 0.8092}\n",
      "Min prob: [2.7770418e-05] Max prob: [0.99983716]\n",
      "Unique labels: {0, 1}\n",
      "Resultados guardados en Test/Resultados_test_B3C.csv\n",
      "Resultados para Resultados/Models/Model1_B3C_3_NO.pth: {'ACC': 0.5104, 'AUC': 0.8557794799999999, 'TPR': 0.9996, 'FPR': 0.9788}\n"
     ]
    }
   ],
   "source": [
    "#PROBAR SOLO LAS ARQUITECTURAS B3C\n",
    "\n",
    "test_loader = p.get_test_loader(data_dir, batch_size=batch_size, img_size=img_size)\n",
    "\n",
    "models = [(\"Resultados/Models/Model1_B3C_1_DA.pth\", \"B3C\"),\n",
    "          (\"Resultados/Models/Model1_B3C_1_NO.pth\", \"B3C\"), (\"Resultados/Models/Model1_B3C_2_DA.pth\", \"B3C\"), (\"Resultados/Models/Model1_B3C_2_NO.pth\", \"B3C\"),\n",
    "          (\"Resultados/Models/Model1_B3C_3_DA.pth\", \"B3C\"), (\"Resultados/Models/Model1_B3C_3_NO.pth\", \"B3C\")]\n",
    "#Elegimos dispositivo (Como es test se puede hacer en cpu)\n",
    "device = torch.device(\"cuda:0\" if torch.cuda.is_available() else \"cpu\")\n",
    "\n",
    "for model_path, model_class in models:\n",
    "    #Creamos el modelo con la arquitectura correspondiente dependiendo del modelo a testear \n",
    "    model = t.load_model(model_path, model_class, out_1, out_2, out_3, out_4, img_size)\n",
    "    #Obtenemos las métricas y la matriz de confusión y las guardamos\n",
    "    metrics = t.evaluate_model_prueba(model, test_loader, device, model_path)\n",
    "    print(f\"Resultados para {model_path}: {metrics}\")"
   ]
  },
  {
   "cell_type": "code",
   "execution_count": 3,
   "id": "9bd806d9-7366-4f63-a5c5-83cef7618469",
   "metadata": {
    "tags": []
   },
   "outputs": [
    {
     "name": "stdout",
     "output_type": "stream",
     "text": [
      "Min prob: [2.171407e-15] Max prob: [1.]\n",
      "Unique labels: {0, 1}\n",
      "Resultados guardados en Test/Resultados_test_3C.csv\n",
      "Resultados para Resultados/Models/Model1_3C_1_DA.pth: {'ACC': 0.941, 'AUC': 0.9935013, 'TPR': 0.892, 'FPR': 0.01}\n",
      "Min prob: [0.] Max prob: [1.]\n",
      "Unique labels: {0, 1}\n",
      "Resultados guardados en Test/Resultados_test_3C.csv\n",
      "Resultados para Resultados/Models/Model1_3C_1_NO.pth: {'ACC': 0.963, 'AUC': 0.993106205, 'TPR': 0.9653, 'FPR': 0.0393}\n",
      "Min prob: [3.589849e-12] Max prob: [1.]\n",
      "Unique labels: {0, 1}\n",
      "Resultados guardados en Test/Resultados_test_3C.csv\n",
      "Resultados para Resultados/Models/Model1_3C_2_DA.pth: {'ACC': 0.95305, 'AUC': 0.991401705, 'TPR': 0.968, 'FPR': 0.0619}\n",
      "Min prob: [2.0970219e-27] Max prob: [1.]\n",
      "Unique labels: {0, 1}\n",
      "Resultados guardados en Test/Resultados_test_3C.csv\n",
      "Resultados para Resultados/Models/Model1_3C_2_NO.pth: {'ACC': 0.9638, 'AUC': 0.9939381750000001, 'TPR': 0.9581, 'FPR': 0.0305}\n",
      "Min prob: [4.674639e-12] Max prob: [1.]\n",
      "Unique labels: {0, 1}\n",
      "Resultados guardados en Test/Resultados_test_3C.csv\n",
      "Resultados para Resultados/Models/Model1_3C_3_DA.pth: {'ACC': 0.9454, 'AUC': 0.993396435, 'TPR': 0.9877, 'FPR': 0.0969}\n",
      "Min prob: [6.788602e-30] Max prob: [1.]\n",
      "Unique labels: {0, 1}\n",
      "Resultados guardados en Test/Resultados_test_3C.csv\n",
      "Resultados para Resultados/Models/Model1_3C_3_NO.pth: {'ACC': 0.9653, 'AUC': 0.9937806750000002, 'TPR': 0.9679, 'FPR': 0.0373}\n",
      "Min prob: [0.] Max prob: [1.]\n",
      "Unique labels: {0, 1}\n",
      "Resultados guardados en Test/Resultados_test_3C.csv\n",
      "Resultados para Resultados/Models/Model2_3C_3_NO.pth: {'ACC': 0.9644, 'AUC': 0.9946571599999998, 'TPR': 0.9771, 'FPR': 0.0483}\n"
     ]
    }
   ],
   "source": [
    "#PROBAR SOLO LAS ARQUITECTURAS 3C\n",
    "\n",
    "test_loader = p.get_test_loader(data_dir, batch_size=batch_size, img_size=img_size)\n",
    "\n",
    "models = [(\"Resultados/Models/Model1_3C_1_DA.pth\", \"3C\"), (\"Resultados/Models/Model1_3C_1_NO.pth\", \"3C\"), (\"Resultados/Models/Model1_3C_2_DA.pth\", \"3C\"),\n",
    "          (\"Resultados/Models/Model1_3C_2_NO.pth\", \"3C\"), (\"Resultados/Models/Model1_3C_3_DA.pth\", \"3C\"), (\"Resultados/Models/Model1_3C_3_NO.pth\", \"3C\"),\n",
    "          (\"Resultados/Models/Model2_3C_3_NO.pth\", \"3C\")]\n",
    "#Elegimos dispositivo (Como es test se puede hacer en cpu)\n",
    "device = torch.device(\"cuda:0\" if torch.cuda.is_available() else \"cpu\")\n",
    "\n",
    "for model_path, model_class in models:\n",
    "    #Creamos el modelo con la arquitectura correspondiente dependiendo del modelo a testear \n",
    "    model = t.load_model(model_path, model_class, out_1, out_2, out_3, out_4, img_size)\n",
    "    #Obtenemos las métricas y la matriz de confusión y las guardamos\n",
    "    metrics = t.evaluate_model_prueba(model, test_loader, device, model_path)\n",
    "    print(f\"Resultados para {model_path}: {metrics}\")"
   ]
  },
  {
   "cell_type": "code",
   "execution_count": 3,
   "id": "9b27c24d-83ab-43a9-8b0f-60cd0b2f845c",
   "metadata": {
    "tags": []
   },
   "outputs": [
    {
     "name": "stdout",
     "output_type": "stream",
     "text": [
      "Min prob: [5.615719e-17] Max prob: [1.]\n",
      "Unique labels: {0, 1}\n",
      "Resultados guardados en Test/Resultados_test_4C.csv\n",
      "Resultados para Resultados/Models/Model1_4C_1_DA.pth: {'ACC': 0.9619, 'AUC': 0.994194295, 'TPR': 0.9741, 'FPR': 0.0503}\n",
      "Min prob: [0.] Max prob: [1.]\n",
      "Unique labels: {0, 1}\n",
      "Resultados guardados en Test/Resultados_test_4C.csv\n",
      "Resultados para Resultados/Models/Model1_4C_1_NO.pth: {'ACC': 0.95555, 'AUC': 0.9928477499999999, 'TPR': 0.9796, 'FPR': 0.0685}\n",
      "Min prob: [5.2109697e-12] Max prob: [1.]\n",
      "Unique labels: {0, 1}\n",
      "Resultados guardados en Test/Resultados_test_4C.csv\n",
      "Resultados para Resultados/Models/Model1_4C_2_DA.pth: {'ACC': 0.9687, 'AUC': 0.99561828, 'TPR': 0.9654, 'FPR': 0.028}\n",
      "Min prob: [1.2154608e-27] Max prob: [1.]\n",
      "Unique labels: {0, 1}\n",
      "Resultados guardados en Test/Resultados_test_4C.csv\n",
      "Resultados para Resultados/Models/Model1_4C_2_NO.pth: {'ACC': 0.9621, 'AUC': 0.9938665049999998, 'TPR': 0.969, 'FPR': 0.0448}\n",
      "Min prob: [7.369981e-12] Max prob: [1.]\n",
      "Unique labels: {0, 1}\n",
      "Resultados guardados en Test/Resultados_test_4C.csv\n",
      "Resultados para Resultados/Models/Model1_4C_3_DA.pth: {'ACC': 0.9635, 'AUC': 0.9940173199999999, 'TPR': 0.9593, 'FPR': 0.0323}\n",
      "Min prob: [1.3882202e-29] Max prob: [1.]\n",
      "Unique labels: {0, 1}\n",
      "Resultados guardados en Test/Resultados_test_4C.csv\n",
      "Resultados para Resultados/Models/Model1_4C_3_NO.pth: {'ACC': 0.96615, 'AUC': 0.9946916499999999, 'TPR': 0.9745, 'FPR': 0.0422}\n",
      "Min prob: [1.4418336e-18] Max prob: [1.]\n",
      "Unique labels: {0, 1}\n",
      "Resultados guardados en Test/Resultados_test_4C.csv\n",
      "Resultados para Resultados/Models/Model2_4C_3_DA.pth: {'ACC': 0.968, 'AUC': 0.9955345450000002, 'TPR': 0.9705, 'FPR': 0.0345}\n"
     ]
    }
   ],
   "source": [
    "#PROBAR SOLO LAS ARQUITECTURAS 4C\n",
    "\n",
    "test_loader = p.get_test_loader(data_dir, batch_size=batch_size, img_size=img_size)\n",
    "\n",
    "models = [(\"Resultados/Models/Model1_4C_1_DA.pth\", \"4C\"), (\"Resultados/Models/Model1_4C_1_NO.pth\", \"4C\"),\n",
    "          (\"Resultados/Models/Model1_4C_2_DA.pth\", \"4C\"), (\"Resultados/Models/Model1_4C_2_NO.pth\", \"4C\"), (\"Resultados/Models/Model1_4C_3_DA.pth\", \"4C\"),\n",
    "          (\"Resultados/Models/Model1_4C_3_NO.pth\", \"4C\"), (\"Resultados/Models/Model2_4C_3_DA.pth\", \"4C\")]\n",
    "#Elegimos dispositivo (Como es test se puede hacer en cpu)\n",
    "device = torch.device(\"cuda:0\" if torch.cuda.is_available() else \"cpu\")\n",
    "\n",
    "for model_path, model_class in models:\n",
    "    #Creamos el modelo con la arquitectura correspondiente dependiendo del modelo a testear \n",
    "    model = t.load_model(model_path, model_class, out_1, out_2, out_3, out_4, img_size)\n",
    "    #Obtenemos las métricas y la matriz de confusión y las guardamos\n",
    "    metrics = t.evaluate_model_prueba(model, test_loader, device, model_path)\n",
    "    print(f\"Resultados para {model_path}: {metrics}\")"
   ]
  },
  {
   "cell_type": "code",
   "execution_count": 5,
   "id": "2937b490-7a6e-4ef9-bcec-a44bb6da69c8",
   "metadata": {
    "tags": []
   },
   "outputs": [
    {
     "name": "stdout",
     "output_type": "stream",
     "text": [
      "Tamaño Positivo: 10000, Media Positiva: 0.9839911101665347, Std Positiva: 0.021372346145892507\n",
      "Tamaño Negativo: 10000, Media Negativa: 0.9184341435816846, Std Negativa: 0.12229510109668185\n",
      "Min prob: [2.7770418e-05] Max prob: [0.99983716]\n",
      "Unique labels: {0, 1}\n",
      "Grafica ROC guardada en ./Test/ROC_Model1_B3C_3_NO.pth.svg\n",
      "El archivo ./Test/MatrixTest_Model1_B3C_3_NO.pth.svg ya existe, no se sobrescribirá.\n",
      "Resultados guardados en Test/Resultados_test_Acumulados.csv\n",
      "Resultados para Resultados/Models/Model1_B3C_3_NO.pth: {'ACC': 0.5104, 'AUC': 0.8557794799999999, 'TPR': 0.9996, 'FPR': 0.9788, 'AUC_umbral': 0.5358931399999999} con umbral de 0.5\n"
     ]
    },
    {
     "data": {
      "image/png": "[encoded data removed]",
      "text/plain": [
       "<Figure size 600x600 with 2 Axes>"
      ]
     },
     "metadata": {},
     "output_type": "display_data"
    }
   ],
   "source": [
    "#Sacar algún modelo en particular\n",
    "test_loader = p.get_test_loader(data_dir, batch_size=batch_size, img_size=img_size)\n",
    "\n",
    "models = [(\"Resultados/Models/Model1_B3C_3_NO.pth\", \"B3C\")]\n",
    "#Elegimos dispositivo (Como es test se puede hacer en cpu)\n",
    "device = torch.device(\"cuda:0\" if torch.cuda.is_available() else \"cpu\")\n",
    "\n",
    "for model_path, model_class in models:\n",
    "    #Creamos el modelo con la arquitectura correspondiente dependiendo del modelo a testear \n",
    "    model = t.load_model(model_path, model_class, out_1, out_2, out_3, out_4, img_size)\n",
    "    #Obtenemos las métricas y la matriz de confusión y las guardamos\n",
    "    metrics = t.evaluate_model_roc(model, test_loader, device, model_path)\n",
    "    print(f\"Resultados para {model_path}: {metrics} con umbral de 0.5\")"
   ]
  },
  {
   "cell_type": "code",
   "execution_count": 3,
   "id": "6eda5e80-d3a5-4524-967c-21a8119fa26a",
   "metadata": {
    "tags": []
   },
   "outputs": [
    {
     "name": "stdout",
     "output_type": "stream",
     "text": [
      "Grafica ROC guardada en ./Test/ROC_ALL_MODELS.svg\n"
     ]
    }
   ],
   "source": [
    "#Sacar Curva Roc Tres modelos\n",
    "test_loader = p.get_test_loader(data_dir, batch_size=batch_size, img_size=img_size)\n",
    "\n",
    "#Elegimos dispositivo (Como es test se puede hacer en cpu)\n",
    "device = torch.device(\"cuda:0\" if torch.cuda.is_available() else \"cpu\")\n",
    "\n",
    "model_3C_path = \"Resultados/Models/Model1_3C_3_NO.pth\"\n",
    "model_3C_class = \"3C\"\n",
    "model_4C_path = \"Resultados/Models/Model1_4C_2_DA.pth\"\n",
    "model_4C_class = \"4C\"\n",
    "model_B3C_path = \"Resultados/Models/Model1_B3C_3_NO.pth\"\n",
    "model_B3C_class = \"B3C\"\n",
    "\n",
    "model_3C = t.load_model(model_3C_path, model_3C_class, out_1, out_2, out_3, out_4, img_size)\n",
    "model_4C = t.load_model(model_4C_path, model_4C_class, out_1, out_2, out_3, out_4, img_size)\n",
    "model_B3C = t.load_model(model_B3C_path, model_B3C_class, out_1, out_2, out_3, out_4, img_size)\n",
    "\n",
    "t.evaluate_model_roc_three(model_3C, model_4C, model_B3C, test_loader, device) \n"
   ]
  },
  {
   "cell_type": "code",
   "execution_count": null,
   "id": "480ad085-bebf-4770-841f-ab72eee1863a",
   "metadata": {},
   "outputs": [],
   "source": []
  }
 ],
 "metadata": {
  "kernelspec": {
   "display_name": "Python 3 (ipykernel)",
   "language": "python",
   "name": "python3"
  },
  "language_info": {
   "codemirror_mode": {
    "name": "ipython",
    "version": 3
   },
   "file_extension": ".py",
   "mimetype": "text/x-python",
   "name": "python",
   "nbconvert_exporter": "python",
   "pygments_lexer": "ipython3",
   "version": "3.10.12"
  }
 },
 "nbformat": 4,
 "nbformat_minor": 5
}

{
 "cells": [
  {
   "cell_type": "code",
   "execution_count": 1,
   "id": "7eae8111-bb4b-4b8f-abb1-da3c1b921f8a",
   "metadata": {
    "tags": []
   },
   "outputs": [],
   "source": [
    "import os\n",
    "from PIL import Image\n",
    "import torch\n",
    "import torch.optim as optim\n",
    "import torch.nn as nn\n",
    "from torchvision import transforms\n",
    "import matplotlib.pyplot as plt\n",
    "\n",
    "import preprocess as p\n",
    "import architecture as arch\n",
    "import display as  disp\n",
    "import entrenamiento as en\n"
   ]
  },
  {
   "cell_type": "code",
   "execution_count": 2,
   "id": "4cb890c5-c458-41f2-a378-56468d419bea",
   "metadata": {
    "tags": []
   },
   "outputs": [],
   "source": [
    "data_dir = './dataset'\n",
    "batch_size = 32\n",
    "img_size = 64\n",
    "learning_rate = 0.001\n",
    "num_epochs = 20\n",
    "\n",
    "#Architecture\n",
    "out_1 = 64 \n",
    "out_2 = 128 \n",
    "out_3 = 256 \n",
    "out_4 = 512 \n",
    "\n",
    "#Hiperparams\n",
    "ARCHT = [\"3C\", \"4C\", \"B3C\"]\n",
    "LR = [0.001, 0.0001, 0.0002]\n",
    "DA = [\"NO\", \"DA\"]\n"
   ]
  },
  {
   "cell_type": "code",
   "execution_count": 3,
   "id": "d23b2327-c8f8-4762-9579-88d807d74502",
   "metadata": {
    "tags": []
   },
   "outputs": [
    {
     "name": "stdout",
     "output_type": "stream",
     "text": [
      "B3C_0.0001_NO\n"
     ]
    }
   ],
   "source": [
    "#Establecemos los parámetros\n",
    "archt = ARCHT[2]\n",
    "lr = LR[1]\n",
    "da = DA[0]\n",
    "print(f\"{archt}_{lr}_{da}\")"
   ]
  },
  {
   "cell_type": "code",
   "execution_count": 4,
   "id": "74664464-7c65-4783-ac45-03a45dbe9b27",
   "metadata": {
    "tags": []
   },
   "outputs": [
    {
     "name": "stdout",
     "output_type": "stream",
     "text": [
      "TrainLoader sin DA\n"
     ]
    }
   ],
   "source": [
    "#Crear el train_loader y el validation_loader\n",
    "if da == \"NO\":\n",
    "    train_loader = p.get_train_loader(data_dir, batch_size=batch_size, img_size=img_size)\n",
    "    validation_loader = p.get_validation_loader(data_dir, batch_size=batch_size, img_size=img_size)\n",
    "    print(\"TrainLoader sin DA\")\n",
    "elif da == \"DA\":\n",
    "    train_loader = p.get_train_loader_da(data_dir, batch_size=batch_size, img_size=img_size)\n",
    "    validation_loader = p.get_validation_loader(data_dir, batch_size=batch_size, img_size=img_size)\n",
    "    print(\"TrainLoader con DA\")\n",
    "else: \n",
    "    print(\"Error en la selección de data augmentation\")"
   ]
  },
  {
   "cell_type": "code",
   "execution_count": 5,
   "id": "5746e6d8-ec31-488c-85cc-16d61235c920",
   "metadata": {
    "tags": []
   },
   "outputs": [
    {
     "name": "stdout",
     "output_type": "stream",
     "text": [
      "Modelo de 3 bloques de 3 capas convolucionales (B3C)\n",
      "Usando el dispositivo: [[cuda:0]]\n"
     ]
    }
   ],
   "source": [
    "# Crear el modelo\n",
    "if archt == \"3C\":\n",
    "    model = arch.CNN_3C(out_1, out_2, out_3, img_size)\n",
    "    print(\"Modelo de 3 capas convolucionales (3C)\")\n",
    "elif archt == \"4C\":\n",
    "    model = arch.CNN_4C(out_1, out_2, out_3, out_4, img_size)\n",
    "    print(\"Modelo de 4 capas convolucionales (4C)\")\n",
    "elif archt == \"B3C\":\n",
    "    model = arch.CNN_B3C(out_1, out_2, out_3, img_size)\n",
    "    print(\"Modelo de 3 bloques de 3 capas convolucionales (B3C)\")\n",
    "else:\n",
    "    print(\"Error en la selección del modelo\")\n",
    "\n",
    "\n",
    "# Seleccionamos la GPU para el entrenamiento del modelo (Utilizar código de comprobaciones.ipynb para comprobar las gpus disponibles)\n",
    "device = torch.device(\"cuda:0\")  # Selecciona la GPU 0\n",
    "print(f\"Usando el dispositivo: [[{device}]]\")\n",
    "\n",
    "#Asignamos el modelo a la gpu 0\n",
    "model = model.to(device)"
   ]
  },
  {
   "cell_type": "code",
   "execution_count": 6,
   "id": "5c2d3bac-f891-43c2-ba43-e763d0e87671",
   "metadata": {
    "tags": []
   },
   "outputs": [
    {
     "name": "stdout",
     "output_type": "stream",
     "text": [
      "Nombre del modelo: 1_B3C_2_NO\n"
     ]
    }
   ],
   "source": [
    "#Creamos el nombre del modelo\n",
    "model_name = disp.crear_nombre_modelo(archt, lr, da)\n",
    "print(f\"Nombre del modelo: {model_name}\")"
   ]
  },
  {
   "cell_type": "code",
   "execution_count": null,
   "id": "29bcfdb2-5a2f-4871-ac86-762baf4d68ef",
   "metadata": {
    "tags": []
   },
   "outputs": [],
   "source": [
    "#LLamamos a la función de entrenamiento con los parámetros seleccionados\n",
    "en.entrenamiento_modelo(num_epochs, model, device, train_loader, validation_loader, lr, batch_size, img_size, model_name)"
   ]
  },
  {
   "cell_type": "code",
   "execution_count": null,
   "id": "7f49e5cd-1eb1-45bd-af96-8edd018a8306",
   "metadata": {},
   "outputs": [],
   "source": []
  }
 ],
 "metadata": {
  "kernelspec": {
   "display_name": "Python 3 (ipykernel)",
   "language": "python",
   "name": "python3"
  },
  "language_info": {
   "codemirror_mode": {
    "name": "ipython",
    "version": 3
   },
   "file_extension": ".py",
   "mimetype": "text/x-python",
   "name": "python",
   "nbconvert_exporter": "python",
   "pygments_lexer": "ipython3",
   "version": "3.10.12"
  }
 },
 "nbformat": 4,
 "nbformat_minor": 5
}
